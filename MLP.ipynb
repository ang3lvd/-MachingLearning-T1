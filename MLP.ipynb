{
 "cells": [
  {
   "cell_type": "code",
   "execution_count": 60,
   "metadata": {
    "collapsed": false
   },
   "outputs": [
    {
     "data": {
      "image/png": "[encoded data removed]",
      "text/plain": [
       "<matplotlib.figure.Figure at 0x121e21017b8>"
      ]
     },
     "metadata": {},
     "output_type": "display_data"
    }
   ],
   "source": [
    "from sklearn.datasets import load_iris\n",
    "import numpy as np\n",
    "import matplotlib.pyplot as plt\n",
    "\n",
    "\n",
    "\n",
    "class MyMLP():\n",
    "    def __init__(self, params=None):\n",
    "        'If params is None the MLP is initialized with default values.'\n",
    "        if params == None:\n",
    "            self.alpha = 0.25\n",
    "            self.n_nlayer = np.array([4,6,5,3,3])#numero de neuronas por layer\n",
    "            self.w = []\n",
    "            self.bias = []\n",
    "            for i in range(len(self.n_nlayer[1:])): #ctdad de layer -1\n",
    "                self.w.append(np.random.randn(self.n_nlayer[i], self.n_nlayer[i+1])*0.05)\n",
    "                self.bias.append(np.random.randn(self.n_nlayer[i + 1]))\n",
    "            self.func_act = 'sigmoide'\n",
    "        else:\n",
    "            self.alpha = params[0]\n",
    "            self.n_nlayer = params[1]\n",
    "            self.w = params[2]\n",
    "            self.bias = params[3]\n",
    "            self.func_act = params[4]\n",
    "        # Build layers\n",
    "        self.net = []\n",
    "        self.out_layers = []\n",
    "        self.dE = []\n",
    "        [self.net.append(np.transpose(np.zeros(i))) for i in self.n_nlayer[1:]]   #ctdad de neuronas a partir de la 2da\n",
    "        [self.out_layers.append(np.transpose(np.zeros(i))) for i in self.n_nlayer] #ctdad de neuronas en cada layer\n",
    "        [self.dE.append(np.zeros(self.n_nlayer[i + 1])) for i in range(len(self.n_nlayer[1:]))]\n",
    "        self.E = []\n",
    "\n",
    "    def propagate(self, X):\n",
    "        ''' Propagate data from input layer to output layer. '''\n",
    "        self.out_layers[0] = X  #Capa de entrada\n",
    "        for i in range(len(self.n_nlayer[1:])): #cada layer (a partir de la 1ra hidden)\n",
    "            self.net[i] = self.w[i].T.dot(self.out_layers[i]) + self.bias[i]  #salida de cada neuron\n",
    "            self.out_layers[i+1] = self.fnc_act(self.net[i], self.func_act)  #salida de cada capa\n",
    "\n",
    "    def learn(self, X, y):\n",
    "        error = abs(y - self.out_layers[-1])  # |y - y_hat|\n",
    "        self.carga_Error(error)  # .5|y - y_hat|^2\n",
    "        self.dE[-1] = np.array([o*(1-o)*error[i] for i,o in enumerate(self.out_layers[-1])]) #delta de la capa de salida\n",
    "        #self.dE[-1] = self.der_func_act(self.net[-1], self.func_act) * error\n",
    "        #self.E.append(0.5 * np.sum((error * self.dE[-1]) ** 2))\n",
    "        \n",
    "        #Paso del error hacia atras (Backpropagation)\n",
    "        for lh in reversed(range(len(self.n_nlayer[2:]))):  # - capa de entrada y capa de salida\n",
    "            der_func = self.out_layers[lh+1]*(1-self.out_layers[lh+1]) #self.der_func_act(self.net[lh], self.func_act)\n",
    "            for n_lh in range(len(self.dE[lh])):   # nodo en cada capa lh\n",
    "                sumatoria = np.dot(self.w[lh+1][n_lh,:].T,self.dE[lh+1])\n",
    "                self.dE[lh][n_lh] = der_func[n_lh]*sumatoria\n",
    "        #Actualizacion de los pesos\n",
    "        for i in range(len(self.w)):\n",
    "            self.w[i] = self.w[i] - self.alpha*(np.dot(self.out_layers[i+1].T,self.dE[i]))\n",
    "            self.bias[i] = self.bias[i] + self.alpha*self.dE[i]\n",
    "\n",
    "    def carga_Error(self,error):\n",
    "        self.E.append(0.5 * np.sum((error) ** 2))  # .5|y - y_hat|^2\n",
    "    \n",
    "    def load_dataset(self, params=None):\n",
    "        if params == None:\n",
    "            iris_data = load_iris()\n",
    "            self.n_samples,self. n_features = iris_data.data.shape\n",
    "            self. X = iris_data.data\n",
    "            self.Y = iris_data.target\n",
    "        else:\n",
    "            self.X = params[0]\n",
    "            self.Y = params[1]\n",
    "            self.n_samples, self.n_features = params[2]\n",
    "        \n",
    "        (ind_train, ind_teste, ind_valid) =  self.dataset_Divided(self.X, self.Y, self.n_samples)\n",
    "        self.X_1 = self.X[ind_train]\n",
    "        self.X_2 = self.X[ind_teste]\n",
    "        self.X_3 = self.X[ind_valid]\n",
    "        self.Y_1 = self.Y[ind_train]\n",
    "        self.Y_2 = self.Y[ind_teste]\n",
    "        self.Y_3 = self.Y[ind_valid]\n",
    "            \n",
    "    def dataset_Divided(self, X, Y, n_samples, pc_train = 75, pc_teste = 15, pc_valid = 5):\n",
    "        indices = list(range(n_samples))\n",
    "        [np.random.shuffle(indices) for i in range(3)]\n",
    "        top_train = int(np.ceil(n_samples*pc_train/100))\n",
    "        top_teste = int(np.ceil(n_samples*(pc_train+pc_teste)/100))\n",
    "        ind_train = indices[:top_train]\n",
    "        ind_teste = indices[top_train:top_teste]\n",
    "        ind_valid = indices[top_teste:]\n",
    "        return (ind_train, ind_teste, ind_valid)\n",
    "    \n",
    "    \n",
    "    def fnc_act(self, n, func):\n",
    "        n = np.array(n)\n",
    "        if func == 'degrau':  # degrau\n",
    "            return (n >= 0)*1\n",
    "        elif func == 'sigmoide':  # sigmoide\n",
    "            return (1 / (1 + np.exp(-5*n)))\n",
    "        elif func == 'lineal':\n",
    "            return n\n",
    "        elif func == 'ReLU':\n",
    "            return np.maximum(0, n)\n",
    "        elif func == 'tanh':\n",
    "            return np.tanh(n)\n",
    "\n",
    "    def der_func_act(self, n, func):\n",
    "        dn = np.array(n)\n",
    "        if func == 'degrau':  # degrau\n",
    "            return (dn >= 0)*1\n",
    "        elif func == 'sigmoide':  # sigmoide\n",
    "            y = self.fnc_act(dn, 'sigmoide')\n",
    "            return 5*y*(1-y)\n",
    "        elif func == 'lineal':\n",
    "            return 1\n",
    "        elif func == 'ReLU':\n",
    "            return (dn >= 0)*1\n",
    "        elif func == 'tanh':\n",
    "            return (1-(np.tan(dn)**2))\n",
    "\n",
    "        \n",
    "#INICIO\n",
    "\n",
    "MLP = MyMLP()\n",
    "MLP.load_dataset()\n",
    "\n",
    "arr_Y = [[1,0,0], [0,1,0], [0,0,1]]\n",
    "indX1 = list(range(len(MLP.Y_1)))\n",
    "indX2 = list(range(len(MLP.Y_2)))\n",
    "indX3 = list(range(len(MLP.Y_3)))\n",
    "\n",
    "epochs =100\n",
    "E_X1 = []\n",
    "E_X2 = []\n",
    "E_X3 = []\n",
    "#Train\n",
    "for e in range(epochs):\n",
    "    #n = np.random.randint(MLP.n_samples)\n",
    "    #TRAIN\n",
    "    np.random.shuffle(indX1)\n",
    "    for i in indX1:\n",
    "        MLP.propagate(MLP.X_1[i])\n",
    "        MLP.learn(MLP.X_1[i], arr_Y[MLP.Y_1[i]])\n",
    "    E_X1.append(np.average(MLP.E))\n",
    "    MLP.E = []\n",
    "    #TESTE\n",
    "    np.random.shuffle(indX2)\n",
    "    for i in indX2:\n",
    "        MLP.propagate(MLP.X_1[i])\n",
    "        MLP.learn(MLP.X_2[i], arr_Y[MLP.Y_2[i]])\n",
    "    E_X2.append(np.average(MLP.E))\n",
    "    MLP.E = []\n",
    "    #VALIDATION\n",
    "    np.random.shuffle(indX3)\n",
    "    for i in indX3:\n",
    "        MLP.propagate(MLP.X_3[i])\n",
    "        MLP.carga_Error(abs(arr_Y[MLP.Y_3[i]]- MLP.out_layers[-1]))\n",
    "        #print(MLP.X_3[i], \" |\", arr_Y[MLP.Y_3[i]], \"  | \", MLP.out_layers[-1], \" | \", MLP.dE[-1])\n",
    "    E_X3.append(np.average(MLP.E))\n",
    "    MLP.E = []\n",
    "\n",
    "\n",
    "plt.plot(range(len(E_X1)), E_X1)\n",
    "#plt.plot(range(len(E_X2)), E_X2)\n",
    "#plt.plot(range(len(E_X3)), E_X3)\n",
    "plt.ylabel('Loss')\n",
    "plt.xlabel('Epochs')\n",
    "plt.show()"
   ]
  },
  {
   "cell_type": "code",
   "execution_count": null,
   "metadata": {
    "collapsed": true
   },
   "outputs": [],
   "source": []
  },
  {
   "cell_type": "code",
   "execution_count": 55,
   "metadata": {
    "collapsed": false
   },
   "outputs": [
    {
     "data": {
      "text/plain": [
       "[4, 5]"
      ]
     },
     "execution_count": 55,
     "metadata": {},
     "output_type": "execute_result"
    }
   ],
   "source": [
    "a = [1,2,3,4,5,6]\n",
    "a[3:5]"
   ]
  },
  {
   "cell_type": "code",
   "execution_count": null,
   "metadata": {
    "collapsed": true
   },
   "outputs": [],
   "source": []
  },
  {
   "cell_type": "code",
   "execution_count": null,
   "metadata": {
    "collapsed": true
   },
   "outputs": [],
   "source": []
  },
  {
   "cell_type": "code",
   "execution_count": null,
   "metadata": {
    "collapsed": true
   },
   "outputs": [],
   "source": []
  }
 ],
 "metadata": {
  "kernelspec": {
   "display_name": "Python 3",
   "language": "python",
   "name": "python3"
  },
  "language_info": {
   "codemirror_mode": {
    "name": "ipython",
    "version": 3
   },
   "file_extension": ".py",
   "mimetype": "text/x-python",
   "name": "python",
   "nbconvert_exporter": "python",
   "pygments_lexer": "ipython3",
   "version": "3.5.0"
  }
 },
 "nbformat": 4,
 "nbformat_minor": 1
}
